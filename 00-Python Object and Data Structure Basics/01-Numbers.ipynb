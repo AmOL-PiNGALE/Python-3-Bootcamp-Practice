{
 "cells": [
  {
   "cell_type": "markdown",
   "id": "2b0ba937",
   "metadata": {},
   "source": [
    "# Numbers in Python\n",
    "\n",
    "We'll learn about the following topics:\n",
    "\n",
    "    1.) Types of Numbers in Python\n",
    "    2.) Basic Arithmetic\n",
    "    3.) Differences between classic division and floor division"
   ]
  },
  {
   "cell_type": "markdown",
   "id": "15024f90",
   "metadata": {},
   "source": [
    "## Types of numbers\n",
    "\n",
    "Python has various \"types\" of numbers (numeric literals). We'll mainly focus on integers and floating point numbers.\n",
    "\n",
    "Integers are just whole numbers, positive or negative. For example: 2 and -2 are examples of integers.\n",
    "\n",
    "Floating point numbers in Python are notable because they have a decimal point in them, or use an exponential (e) to define the number. For example 2.0 and -2.1 are examples of floating point numbers. 4E2 (4 times 10 to the power of 2) is also an example of a floating point number in Python."
   ]
  },
  {
   "cell_type": "markdown",
   "id": "e719a4f5",
   "metadata": {},
   "source": [
    "<table>\n",
    "<tr>\n",
    "    <th>Examples</th> \n",
    "    <th>Number \"Type\"</th>\n",
    "</tr>\n",
    "\n",
    "<tr>\n",
    "    <td>1,2,-5,1000</td>\n",
    "    <td>Integers</td> \n",
    "</tr>\n",
    "\n",
    "<tr>\n",
    "    <td>1.2,-0.5,2e2,3E2</td> \n",
    "    <td>Floating-point numbers</td> \n",
    "</tr>\n",
    " </table>"
   ]
  },
  {
   "cell_type": "markdown",
   "id": "47cbbc4d",
   "metadata": {},
   "source": [
    "### Basic Arithmatics"
   ]
  },
  {
   "cell_type": "code",
   "execution_count": 1,
   "id": "ad6ac8ee",
   "metadata": {},
   "outputs": [
    {
     "data": {
      "text/plain": [
       "79"
      ]
     },
     "execution_count": 1,
     "metadata": {},
     "output_type": "execute_result"
    }
   ],
   "source": [
    "# Addition\n",
    "45 + 34"
   ]
  },
  {
   "cell_type": "code",
   "execution_count": 2,
   "id": "44ba2f17",
   "metadata": {},
   "outputs": [
    {
     "data": {
      "text/plain": [
       "4"
      ]
     },
     "execution_count": 2,
     "metadata": {},
     "output_type": "execute_result"
    }
   ],
   "source": [
    "# Subtraction\n",
    "7 - 3"
   ]
  },
  {
   "cell_type": "code",
   "execution_count": 3,
   "id": "016c747b",
   "metadata": {},
   "outputs": [
    {
     "data": {
      "text/plain": [
       "12"
      ]
     },
     "execution_count": 3,
     "metadata": {},
     "output_type": "execute_result"
    }
   ],
   "source": [
    "# Multiplication\n",
    "4 * 3"
   ]
  },
  {
   "cell_type": "code",
   "execution_count": 4,
   "id": "9cfa788e",
   "metadata": {},
   "outputs": [
    {
     "data": {
      "text/plain": [
       "5.333333333333333"
      ]
     },
     "execution_count": 4,
     "metadata": {},
     "output_type": "execute_result"
    }
   ],
   "source": [
    "# Division (In Python division is like normal arithmatic)\n",
    "16 / 3"
   ]
  },
  {
   "cell_type": "code",
   "execution_count": 5,
   "id": "db2eaa7c",
   "metadata": {},
   "outputs": [
    {
     "data": {
      "text/plain": [
       "4"
      ]
     },
     "execution_count": 5,
     "metadata": {},
     "output_type": "execute_result"
    }
   ],
   "source": [
    "# Floor Division (this works like a division operation from other programming languages, giving only int answ without remainder)\n",
    "13 // 3"
   ]
  },
  {
   "cell_type": "markdown",
   "id": "b088f5ad",
   "metadata": {},
   "source": [
    "**Whoa! What just happened? Last time I checked, 13 divided by 4 equals 4.33 not 4!**\n",
    "\n",
    "The reason we get this result is because we are using \"*floor*\" division. The // operator (two forward slashes) truncates the decimal without rounding, and returns an integer result."
   ]
  },
  {
   "cell_type": "markdown",
   "id": "40cfdec5",
   "metadata": {},
   "source": [
    "**So what if we just want the remainder after division?**"
   ]
  },
  {
   "cell_type": "code",
   "execution_count": 6,
   "id": "6fcce5a3",
   "metadata": {},
   "outputs": [
    {
     "data": {
      "text/plain": [
       "1"
      ]
     },
     "execution_count": 6,
     "metadata": {},
     "output_type": "execute_result"
    }
   ],
   "source": [
    "# Modulo (The % operator returns the remainder after division)\n",
    "7 % 3"
   ]
  },
  {
   "cell_type": "markdown",
   "id": "a37d5881",
   "metadata": {},
   "source": [
    "</br>"
   ]
  },
  {
   "cell_type": "markdown",
   "id": "86f64957",
   "metadata": {},
   "source": [
    "### Arithmetic continued"
   ]
  },
  {
   "cell_type": "code",
   "execution_count": 7,
   "id": "dc58af5d",
   "metadata": {},
   "outputs": [
    {
     "data": {
      "text/plain": [
       "8"
      ]
     },
     "execution_count": 7,
     "metadata": {},
     "output_type": "execute_result"
    }
   ],
   "source": [
    "# Powers\n",
    "2**3"
   ]
  },
  {
   "cell_type": "code",
   "execution_count": 8,
   "id": "6a8bcee6",
   "metadata": {},
   "outputs": [
    {
     "data": {
      "text/plain": [
       "2.0"
      ]
     },
     "execution_count": 8,
     "metadata": {},
     "output_type": "execute_result"
    }
   ],
   "source": [
    "# Can also do roots this way\n",
    "4**0.5"
   ]
  },
  {
   "cell_type": "code",
   "execution_count": 9,
   "id": "e655005a",
   "metadata": {},
   "outputs": [
    {
     "data": {
      "text/plain": [
       "105"
      ]
     },
     "execution_count": 9,
     "metadata": {},
     "output_type": "execute_result"
    }
   ],
   "source": [
    "# Order of Operations followed in Python\n",
    "2 + 10 * 10 + 3"
   ]
  },
  {
   "cell_type": "code",
   "execution_count": 10,
   "id": "03cb7935",
   "metadata": {},
   "outputs": [
    {
     "data": {
      "text/plain": [
       "156"
      ]
     },
     "execution_count": 10,
     "metadata": {},
     "output_type": "execute_result"
    }
   ],
   "source": [
    "# Can use parentheses to specify orders\n",
    "(2+10) * (10+3)"
   ]
  }
 ],
 "metadata": {
  "kernelspec": {
   "display_name": "Python 3",
   "language": "python",
   "name": "python3"
  },
  "language_info": {
   "codemirror_mode": {
    "name": "ipython",
    "version": 3
   },
   "file_extension": ".py",
   "mimetype": "text/x-python",
   "name": "python",
   "nbconvert_exporter": "python",
   "pygments_lexer": "ipython3",
   "version": "3.8.8"
  }
 },
 "nbformat": 4,
 "nbformat_minor": 5
}
